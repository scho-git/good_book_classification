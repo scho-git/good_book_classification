{
 "cells": [
  {
   "cell_type": "code",
   "execution_count": 1,
   "id": "c17953d5",
   "metadata": {
    "execution": {
     "iopub.execute_input": "2021-11-21T20:48:23.598865Z",
     "iopub.status.busy": "2021-11-21T20:48:23.598024Z",
     "iopub.status.idle": "2021-11-21T20:48:24.682882Z",
     "shell.execute_reply": "2021-11-21T20:48:24.683670Z",
     "shell.execute_reply.started": "2021-11-21T20:12:57.170339Z"
    },
    "papermill": {
     "duration": 1.116884,
     "end_time": "2021-11-21T20:48:24.684231",
     "exception": false,
     "start_time": "2021-11-21T20:48:23.567347",
     "status": "completed"
    },
    "tags": []
   },
   "outputs": [
    {
     "name": "stdout",
     "output_type": "stream",
     "text": [
      "/kaggle/input/booksdata/scaled_test.csv\n",
      "/kaggle/input/booksdata/final.csv\n",
      "/kaggle/input/booksdata/scaled_train.csv\n",
      "/kaggle/input/booksdata/train_data.csv\n",
      "/kaggle/input/booksdata/test_data.csv\n"
     ]
    }
   ],
   "source": [
    "#Import relevant libraries\n",
    "import pandas as pd\n",
    "import numpy as np\n",
    "import matplotlib.pyplot as plt\n",
    "\n",
    "from sklearn.preprocessing import MinMaxScaler\n",
    "\n",
    "from sklearn.dummy import DummyClassifier\n",
    "from sklearn.linear_model import LogisticRegression\n",
    "from sklearn.ensemble import RandomForestClassifier\n",
    "from sklearn.metrics import classification_report, confusion_matrix, roc_curve, roc_auc_score, auc\n",
    "from sklearn.model_selection import GridSearchCV, RandomizedSearchCV, train_test_split\n",
    "from sklearn.pipeline import Pipeline\n",
    "\n",
    "import xgboost as xgb\n",
    "\n",
    "import time\n",
    "\n",
    "# Input data files are available in the read-only \"../input/\" directory\n",
    "# For example, running this (by clicking run or pressing Shift+Enter) will list all files under the input directory\n",
    "import os\n",
    "for dirname, _, filenames in os.walk('/kaggle/input'):\n",
    "    for filename in filenames:\n",
    "        print(os.path.join(dirname, filename))\n",
    "\n",
    "#Ignore warnings\n",
    "import warnings\n",
    "warnings.filterwarnings(\"ignore\")"
   ]
  },
  {
   "cell_type": "code",
   "execution_count": 2,
   "id": "ef0d67e1",
   "metadata": {
    "execution": {
     "iopub.execute_input": "2021-11-21T20:48:24.725990Z",
     "iopub.status.busy": "2021-11-21T20:48:24.725474Z",
     "iopub.status.idle": "2021-11-21T20:48:24.728590Z",
     "shell.execute_reply": "2021-11-21T20:48:24.728987Z",
     "shell.execute_reply.started": "2021-11-21T20:12:59.874769Z"
    },
    "papermill": {
     "duration": 0.023686,
     "end_time": "2021-11-21T20:48:24.729115",
     "exception": false,
     "start_time": "2021-11-21T20:48:24.705429",
     "status": "completed"
    },
    "tags": []
   },
   "outputs": [],
   "source": [
    "#Change display to see more rows and columns\n",
    "pd.set_option('display.max_rows', 500)\n",
    "pd.set_option('display.max_columns', 500)"
   ]
  },
  {
   "cell_type": "markdown",
   "id": "7bc1f01d",
   "metadata": {
    "papermill": {
     "duration": 0.016472,
     "end_time": "2021-11-21T20:48:24.761897",
     "exception": false,
     "start_time": "2021-11-21T20:48:24.745425",
     "status": "completed"
    },
    "tags": []
   },
   "source": [
    "## Load the Datasets"
   ]
  },
  {
   "cell_type": "code",
   "execution_count": 3,
   "id": "e50948cb",
   "metadata": {
    "execution": {
     "iopub.execute_input": "2021-11-21T20:48:24.798178Z",
     "iopub.status.busy": "2021-11-21T20:48:24.797571Z",
     "iopub.status.idle": "2021-11-21T20:48:25.058753Z",
     "shell.execute_reply": "2021-11-21T20:48:25.059238Z",
     "shell.execute_reply.started": "2021-11-21T20:13:01.952164Z"
    },
    "papermill": {
     "duration": 0.281397,
     "end_time": "2021-11-21T20:48:25.059399",
     "exception": false,
     "start_time": "2021-11-21T20:48:24.778002",
     "status": "completed"
    },
    "tags": []
   },
   "outputs": [
    {
     "data": {
      "text/html": [
       "<div>\n",
       "<style scoped>\n",
       "    .dataframe tbody tr th:only-of-type {\n",
       "        vertical-align: middle;\n",
       "    }\n",
       "\n",
       "    .dataframe tbody tr th {\n",
       "        vertical-align: top;\n",
       "    }\n",
       "\n",
       "    .dataframe thead th {\n",
       "        text-align: right;\n",
       "    }\n",
       "</style>\n",
       "<table border=\"1\" class=\"dataframe\">\n",
       "  <thead>\n",
       "    <tr style=\"text-align: right;\">\n",
       "      <th></th>\n",
       "      <th>edition</th>\n",
       "      <th>pages</th>\n",
       "      <th>rating</th>\n",
       "      <th>rating_count</th>\n",
       "      <th>review_count</th>\n",
       "      <th>missing_ed</th>\n",
       "      <th>missing_desc</th>\n",
       "      <th>length</th>\n",
       "      <th>quality</th>\n",
       "      <th>Fiction</th>\n",
       "      <th>Fantasy</th>\n",
       "      <th>Romance</th>\n",
       "      <th>Young Adult</th>\n",
       "      <th>Nonfiction</th>\n",
       "      <th>Historical</th>\n",
       "      <th>Historical Fiction</th>\n",
       "      <th>Contemporary</th>\n",
       "      <th>Classics</th>\n",
       "      <th>Mystery</th>\n",
       "      <th>Cultural</th>\n",
       "      <th>Paranormal</th>\n",
       "      <th>Science Fiction</th>\n",
       "      <th>Childrens</th>\n",
       "      <th>Literature</th>\n",
       "      <th>Other</th>\n",
       "      <th>fauthor_rating</th>\n",
       "      <th>fauthor_nbooks</th>\n",
       "      <th>authors_rating</th>\n",
       "      <th>authors_nbooks</th>\n",
       "      <th>nauthors</th>\n",
       "      <th>a1plus</th>\n",
       "      <th>a3plus</th>\n",
       "      <th>a5plus</th>\n",
       "      <th>a10plus</th>\n",
       "      <th>fmt_Audio</th>\n",
       "      <th>fmt_Digital</th>\n",
       "      <th>fmt_Hardcover</th>\n",
       "      <th>fmt_Missing</th>\n",
       "      <th>fmt_Other</th>\n",
       "      <th>fmt_Paperback</th>\n",
       "    </tr>\n",
       "  </thead>\n",
       "  <tbody>\n",
       "    <tr>\n",
       "      <th>0</th>\n",
       "      <td>0</td>\n",
       "      <td>870.0</td>\n",
       "      <td>4.48</td>\n",
       "      <td>2041594</td>\n",
       "      <td>33264</td>\n",
       "      <td>0.0</td>\n",
       "      <td>1.0</td>\n",
       "      <td>3.0</td>\n",
       "      <td>1.0</td>\n",
       "      <td>1</td>\n",
       "      <td>1</td>\n",
       "      <td>0</td>\n",
       "      <td>1</td>\n",
       "      <td>0</td>\n",
       "      <td>0</td>\n",
       "      <td>0</td>\n",
       "      <td>0</td>\n",
       "      <td>0</td>\n",
       "      <td>0</td>\n",
       "      <td>0</td>\n",
       "      <td>0</td>\n",
       "      <td>0</td>\n",
       "      <td>0</td>\n",
       "      <td>0</td>\n",
       "      <td>0</td>\n",
       "      <td>4.244412</td>\n",
       "      <td>34</td>\n",
       "      <td>4.388873</td>\n",
       "      <td>20.000000</td>\n",
       "      <td>2</td>\n",
       "      <td>1</td>\n",
       "      <td>0</td>\n",
       "      <td>0</td>\n",
       "      <td>0</td>\n",
       "      <td>0</td>\n",
       "      <td>0</td>\n",
       "      <td>0</td>\n",
       "      <td>0</td>\n",
       "      <td>0</td>\n",
       "      <td>1</td>\n",
       "    </tr>\n",
       "    <tr>\n",
       "      <th>1</th>\n",
       "      <td>0</td>\n",
       "      <td>193.0</td>\n",
       "      <td>4.21</td>\n",
       "      <td>1155911</td>\n",
       "      <td>23919</td>\n",
       "      <td>1.0</td>\n",
       "      <td>1.0</td>\n",
       "      <td>1.0</td>\n",
       "      <td>1.0</td>\n",
       "      <td>1</td>\n",
       "      <td>1</td>\n",
       "      <td>0</td>\n",
       "      <td>0</td>\n",
       "      <td>0</td>\n",
       "      <td>0</td>\n",
       "      <td>0</td>\n",
       "      <td>0</td>\n",
       "      <td>1</td>\n",
       "      <td>0</td>\n",
       "      <td>0</td>\n",
       "      <td>0</td>\n",
       "      <td>1</td>\n",
       "      <td>0</td>\n",
       "      <td>0</td>\n",
       "      <td>1</td>\n",
       "      <td>4.156957</td>\n",
       "      <td>23</td>\n",
       "      <td>4.156957</td>\n",
       "      <td>23.000000</td>\n",
       "      <td>1</td>\n",
       "      <td>0</td>\n",
       "      <td>0</td>\n",
       "      <td>0</td>\n",
       "      <td>0</td>\n",
       "      <td>0</td>\n",
       "      <td>0</td>\n",
       "      <td>0</td>\n",
       "      <td>0</td>\n",
       "      <td>0</td>\n",
       "      <td>1</td>\n",
       "    </tr>\n",
       "    <tr>\n",
       "      <th>2</th>\n",
       "      <td>0</td>\n",
       "      <td>64.0</td>\n",
       "      <td>4.37</td>\n",
       "      <td>789681</td>\n",
       "      <td>15694</td>\n",
       "      <td>1.0</td>\n",
       "      <td>1.0</td>\n",
       "      <td>1.0</td>\n",
       "      <td>1.0</td>\n",
       "      <td>1</td>\n",
       "      <td>0</td>\n",
       "      <td>0</td>\n",
       "      <td>0</td>\n",
       "      <td>0</td>\n",
       "      <td>0</td>\n",
       "      <td>0</td>\n",
       "      <td>0</td>\n",
       "      <td>1</td>\n",
       "      <td>0</td>\n",
       "      <td>0</td>\n",
       "      <td>0</td>\n",
       "      <td>0</td>\n",
       "      <td>1</td>\n",
       "      <td>0</td>\n",
       "      <td>1</td>\n",
       "      <td>4.241818</td>\n",
       "      <td>11</td>\n",
       "      <td>4.241818</td>\n",
       "      <td>11.000000</td>\n",
       "      <td>1</td>\n",
       "      <td>0</td>\n",
       "      <td>0</td>\n",
       "      <td>0</td>\n",
       "      <td>0</td>\n",
       "      <td>0</td>\n",
       "      <td>0</td>\n",
       "      <td>1</td>\n",
       "      <td>0</td>\n",
       "      <td>0</td>\n",
       "      <td>0</td>\n",
       "    </tr>\n",
       "    <tr>\n",
       "      <th>3</th>\n",
       "      <td>0</td>\n",
       "      <td>481.0</td>\n",
       "      <td>3.81</td>\n",
       "      <td>1668594</td>\n",
       "      <td>43699</td>\n",
       "      <td>1.0</td>\n",
       "      <td>1.0</td>\n",
       "      <td>3.0</td>\n",
       "      <td>1.0</td>\n",
       "      <td>1</td>\n",
       "      <td>0</td>\n",
       "      <td>0</td>\n",
       "      <td>0</td>\n",
       "      <td>0</td>\n",
       "      <td>0</td>\n",
       "      <td>0</td>\n",
       "      <td>0</td>\n",
       "      <td>0</td>\n",
       "      <td>1</td>\n",
       "      <td>0</td>\n",
       "      <td>0</td>\n",
       "      <td>0</td>\n",
       "      <td>0</td>\n",
       "      <td>0</td>\n",
       "      <td>1</td>\n",
       "      <td>3.818571</td>\n",
       "      <td>14</td>\n",
       "      <td>3.818571</td>\n",
       "      <td>14.000000</td>\n",
       "      <td>1</td>\n",
       "      <td>0</td>\n",
       "      <td>0</td>\n",
       "      <td>0</td>\n",
       "      <td>0</td>\n",
       "      <td>0</td>\n",
       "      <td>0</td>\n",
       "      <td>0</td>\n",
       "      <td>0</td>\n",
       "      <td>0</td>\n",
       "      <td>1</td>\n",
       "    </tr>\n",
       "    <tr>\n",
       "      <th>4</th>\n",
       "      <td>0</td>\n",
       "      <td>239.0</td>\n",
       "      <td>4.07</td>\n",
       "      <td>411153</td>\n",
       "      <td>9166</td>\n",
       "      <td>1.0</td>\n",
       "      <td>1.0</td>\n",
       "      <td>2.0</td>\n",
       "      <td>1.0</td>\n",
       "      <td>1</td>\n",
       "      <td>1</td>\n",
       "      <td>0</td>\n",
       "      <td>0</td>\n",
       "      <td>0</td>\n",
       "      <td>0</td>\n",
       "      <td>0</td>\n",
       "      <td>0</td>\n",
       "      <td>1</td>\n",
       "      <td>0</td>\n",
       "      <td>0</td>\n",
       "      <td>0</td>\n",
       "      <td>0</td>\n",
       "      <td>1</td>\n",
       "      <td>0</td>\n",
       "      <td>0</td>\n",
       "      <td>4.085000</td>\n",
       "      <td>18</td>\n",
       "      <td>4.077143</td>\n",
       "      <td>9.666667</td>\n",
       "      <td>3</td>\n",
       "      <td>1</td>\n",
       "      <td>0</td>\n",
       "      <td>0</td>\n",
       "      <td>0</td>\n",
       "      <td>0</td>\n",
       "      <td>0</td>\n",
       "      <td>0</td>\n",
       "      <td>0</td>\n",
       "      <td>0</td>\n",
       "      <td>1</td>\n",
       "    </tr>\n",
       "    <tr>\n",
       "      <th>...</th>\n",
       "      <td>...</td>\n",
       "      <td>...</td>\n",
       "      <td>...</td>\n",
       "      <td>...</td>\n",
       "      <td>...</td>\n",
       "      <td>...</td>\n",
       "      <td>...</td>\n",
       "      <td>...</td>\n",
       "      <td>...</td>\n",
       "      <td>...</td>\n",
       "      <td>...</td>\n",
       "      <td>...</td>\n",
       "      <td>...</td>\n",
       "      <td>...</td>\n",
       "      <td>...</td>\n",
       "      <td>...</td>\n",
       "      <td>...</td>\n",
       "      <td>...</td>\n",
       "      <td>...</td>\n",
       "      <td>...</td>\n",
       "      <td>...</td>\n",
       "      <td>...</td>\n",
       "      <td>...</td>\n",
       "      <td>...</td>\n",
       "      <td>...</td>\n",
       "      <td>...</td>\n",
       "      <td>...</td>\n",
       "      <td>...</td>\n",
       "      <td>...</td>\n",
       "      <td>...</td>\n",
       "      <td>...</td>\n",
       "      <td>...</td>\n",
       "      <td>...</td>\n",
       "      <td>...</td>\n",
       "      <td>...</td>\n",
       "      <td>...</td>\n",
       "      <td>...</td>\n",
       "      <td>...</td>\n",
       "      <td>...</td>\n",
       "      <td>...</td>\n",
       "    </tr>\n",
       "    <tr>\n",
       "      <th>38411</th>\n",
       "      <td>0</td>\n",
       "      <td>106.0</td>\n",
       "      <td>3.92</td>\n",
       "      <td>387</td>\n",
       "      <td>39</td>\n",
       "      <td>1.0</td>\n",
       "      <td>1.0</td>\n",
       "      <td>1.0</td>\n",
       "      <td>0.0</td>\n",
       "      <td>1</td>\n",
       "      <td>0</td>\n",
       "      <td>0</td>\n",
       "      <td>0</td>\n",
       "      <td>0</td>\n",
       "      <td>1</td>\n",
       "      <td>1</td>\n",
       "      <td>0</td>\n",
       "      <td>0</td>\n",
       "      <td>0</td>\n",
       "      <td>1</td>\n",
       "      <td>0</td>\n",
       "      <td>0</td>\n",
       "      <td>0</td>\n",
       "      <td>1</td>\n",
       "      <td>1</td>\n",
       "      <td>3.920000</td>\n",
       "      <td>1</td>\n",
       "      <td>3.920000</td>\n",
       "      <td>1.000000</td>\n",
       "      <td>2</td>\n",
       "      <td>1</td>\n",
       "      <td>0</td>\n",
       "      <td>0</td>\n",
       "      <td>0</td>\n",
       "      <td>0</td>\n",
       "      <td>0</td>\n",
       "      <td>0</td>\n",
       "      <td>0</td>\n",
       "      <td>0</td>\n",
       "      <td>1</td>\n",
       "    </tr>\n",
       "    <tr>\n",
       "      <th>38412</th>\n",
       "      <td>0</td>\n",
       "      <td>336.0</td>\n",
       "      <td>3.60</td>\n",
       "      <td>3529</td>\n",
       "      <td>531</td>\n",
       "      <td>1.0</td>\n",
       "      <td>1.0</td>\n",
       "      <td>2.0</td>\n",
       "      <td>0.0</td>\n",
       "      <td>1</td>\n",
       "      <td>0</td>\n",
       "      <td>0</td>\n",
       "      <td>1</td>\n",
       "      <td>0</td>\n",
       "      <td>0</td>\n",
       "      <td>0</td>\n",
       "      <td>1</td>\n",
       "      <td>0</td>\n",
       "      <td>0</td>\n",
       "      <td>0</td>\n",
       "      <td>0</td>\n",
       "      <td>0</td>\n",
       "      <td>0</td>\n",
       "      <td>0</td>\n",
       "      <td>1</td>\n",
       "      <td>3.600000</td>\n",
       "      <td>1</td>\n",
       "      <td>3.600000</td>\n",
       "      <td>1.000000</td>\n",
       "      <td>1</td>\n",
       "      <td>0</td>\n",
       "      <td>0</td>\n",
       "      <td>0</td>\n",
       "      <td>0</td>\n",
       "      <td>0</td>\n",
       "      <td>0</td>\n",
       "      <td>0</td>\n",
       "      <td>0</td>\n",
       "      <td>0</td>\n",
       "      <td>1</td>\n",
       "    </tr>\n",
       "    <tr>\n",
       "      <th>38413</th>\n",
       "      <td>1</td>\n",
       "      <td>368.0</td>\n",
       "      <td>3.67</td>\n",
       "      <td>5827</td>\n",
       "      <td>816</td>\n",
       "      <td>0.0</td>\n",
       "      <td>1.0</td>\n",
       "      <td>2.0</td>\n",
       "      <td>0.0</td>\n",
       "      <td>1</td>\n",
       "      <td>0</td>\n",
       "      <td>0</td>\n",
       "      <td>0</td>\n",
       "      <td>0</td>\n",
       "      <td>0</td>\n",
       "      <td>0</td>\n",
       "      <td>1</td>\n",
       "      <td>0</td>\n",
       "      <td>0</td>\n",
       "      <td>0</td>\n",
       "      <td>0</td>\n",
       "      <td>0</td>\n",
       "      <td>0</td>\n",
       "      <td>0</td>\n",
       "      <td>1</td>\n",
       "      <td>3.767500</td>\n",
       "      <td>4</td>\n",
       "      <td>3.767500</td>\n",
       "      <td>4.000000</td>\n",
       "      <td>1</td>\n",
       "      <td>0</td>\n",
       "      <td>0</td>\n",
       "      <td>0</td>\n",
       "      <td>0</td>\n",
       "      <td>0</td>\n",
       "      <td>0</td>\n",
       "      <td>1</td>\n",
       "      <td>0</td>\n",
       "      <td>0</td>\n",
       "      <td>0</td>\n",
       "    </tr>\n",
       "    <tr>\n",
       "      <th>38414</th>\n",
       "      <td>0</td>\n",
       "      <td>399.0</td>\n",
       "      <td>3.51</td>\n",
       "      <td>3717</td>\n",
       "      <td>661</td>\n",
       "      <td>1.0</td>\n",
       "      <td>1.0</td>\n",
       "      <td>2.0</td>\n",
       "      <td>0.0</td>\n",
       "      <td>0</td>\n",
       "      <td>0</td>\n",
       "      <td>0</td>\n",
       "      <td>0</td>\n",
       "      <td>1</td>\n",
       "      <td>0</td>\n",
       "      <td>0</td>\n",
       "      <td>0</td>\n",
       "      <td>0</td>\n",
       "      <td>0</td>\n",
       "      <td>0</td>\n",
       "      <td>0</td>\n",
       "      <td>0</td>\n",
       "      <td>0</td>\n",
       "      <td>0</td>\n",
       "      <td>1</td>\n",
       "      <td>3.510000</td>\n",
       "      <td>1</td>\n",
       "      <td>3.510000</td>\n",
       "      <td>1.000000</td>\n",
       "      <td>1</td>\n",
       "      <td>0</td>\n",
       "      <td>0</td>\n",
       "      <td>0</td>\n",
       "      <td>0</td>\n",
       "      <td>0</td>\n",
       "      <td>0</td>\n",
       "      <td>1</td>\n",
       "      <td>0</td>\n",
       "      <td>0</td>\n",
       "      <td>0</td>\n",
       "    </tr>\n",
       "    <tr>\n",
       "      <th>38415</th>\n",
       "      <td>0</td>\n",
       "      <td>272.0</td>\n",
       "      <td>3.82</td>\n",
       "      <td>867</td>\n",
       "      <td>187</td>\n",
       "      <td>1.0</td>\n",
       "      <td>1.0</td>\n",
       "      <td>2.0</td>\n",
       "      <td>0.0</td>\n",
       "      <td>0</td>\n",
       "      <td>0</td>\n",
       "      <td>0</td>\n",
       "      <td>0</td>\n",
       "      <td>1</td>\n",
       "      <td>0</td>\n",
       "      <td>0</td>\n",
       "      <td>0</td>\n",
       "      <td>0</td>\n",
       "      <td>0</td>\n",
       "      <td>0</td>\n",
       "      <td>0</td>\n",
       "      <td>0</td>\n",
       "      <td>0</td>\n",
       "      <td>0</td>\n",
       "      <td>1</td>\n",
       "      <td>3.820000</td>\n",
       "      <td>1</td>\n",
       "      <td>3.820000</td>\n",
       "      <td>1.000000</td>\n",
       "      <td>2</td>\n",
       "      <td>1</td>\n",
       "      <td>0</td>\n",
       "      <td>0</td>\n",
       "      <td>0</td>\n",
       "      <td>0</td>\n",
       "      <td>0</td>\n",
       "      <td>1</td>\n",
       "      <td>0</td>\n",
       "      <td>0</td>\n",
       "      <td>0</td>\n",
       "    </tr>\n",
       "  </tbody>\n",
       "</table>\n",
       "<p>38416 rows × 40 columns</p>\n",
       "</div>"
      ],
      "text/plain": [
       "       edition  pages  rating  rating_count  review_count  missing_ed  \\\n",
       "0            0  870.0    4.48       2041594         33264         0.0   \n",
       "1            0  193.0    4.21       1155911         23919         1.0   \n",
       "2            0   64.0    4.37        789681         15694         1.0   \n",
       "3            0  481.0    3.81       1668594         43699         1.0   \n",
       "4            0  239.0    4.07        411153          9166         1.0   \n",
       "...        ...    ...     ...           ...           ...         ...   \n",
       "38411        0  106.0    3.92           387            39         1.0   \n",
       "38412        0  336.0    3.60          3529           531         1.0   \n",
       "38413        1  368.0    3.67          5827           816         0.0   \n",
       "38414        0  399.0    3.51          3717           661         1.0   \n",
       "38415        0  272.0    3.82           867           187         1.0   \n",
       "\n",
       "       missing_desc  length  quality  Fiction  Fantasy  Romance  Young Adult  \\\n",
       "0               1.0     3.0      1.0        1        1        0            1   \n",
       "1               1.0     1.0      1.0        1        1        0            0   \n",
       "2               1.0     1.0      1.0        1        0        0            0   \n",
       "3               1.0     3.0      1.0        1        0        0            0   \n",
       "4               1.0     2.0      1.0        1        1        0            0   \n",
       "...             ...     ...      ...      ...      ...      ...          ...   \n",
       "38411           1.0     1.0      0.0        1        0        0            0   \n",
       "38412           1.0     2.0      0.0        1        0        0            1   \n",
       "38413           1.0     2.0      0.0        1        0        0            0   \n",
       "38414           1.0     2.0      0.0        0        0        0            0   \n",
       "38415           1.0     2.0      0.0        0        0        0            0   \n",
       "\n",
       "       Nonfiction  Historical  Historical Fiction  Contemporary  Classics  \\\n",
       "0               0           0                   0             0         0   \n",
       "1               0           0                   0             0         1   \n",
       "2               0           0                   0             0         1   \n",
       "3               0           0                   0             0         0   \n",
       "4               0           0                   0             0         1   \n",
       "...           ...         ...                 ...           ...       ...   \n",
       "38411           0           1                   1             0         0   \n",
       "38412           0           0                   0             1         0   \n",
       "38413           0           0                   0             1         0   \n",
       "38414           1           0                   0             0         0   \n",
       "38415           1           0                   0             0         0   \n",
       "\n",
       "       Mystery  Cultural  Paranormal  Science Fiction  Childrens  Literature  \\\n",
       "0            0         0           0                0          0           0   \n",
       "1            0         0           0                1          0           0   \n",
       "2            0         0           0                0          1           0   \n",
       "3            1         0           0                0          0           0   \n",
       "4            0         0           0                0          1           0   \n",
       "...        ...       ...         ...              ...        ...         ...   \n",
       "38411        0         1           0                0          0           1   \n",
       "38412        0         0           0                0          0           0   \n",
       "38413        0         0           0                0          0           0   \n",
       "38414        0         0           0                0          0           0   \n",
       "38415        0         0           0                0          0           0   \n",
       "\n",
       "       Other  fauthor_rating  fauthor_nbooks  authors_rating  authors_nbooks  \\\n",
       "0          0        4.244412              34        4.388873       20.000000   \n",
       "1          1        4.156957              23        4.156957       23.000000   \n",
       "2          1        4.241818              11        4.241818       11.000000   \n",
       "3          1        3.818571              14        3.818571       14.000000   \n",
       "4          0        4.085000              18        4.077143        9.666667   \n",
       "...      ...             ...             ...             ...             ...   \n",
       "38411      1        3.920000               1        3.920000        1.000000   \n",
       "38412      1        3.600000               1        3.600000        1.000000   \n",
       "38413      1        3.767500               4        3.767500        4.000000   \n",
       "38414      1        3.510000               1        3.510000        1.000000   \n",
       "38415      1        3.820000               1        3.820000        1.000000   \n",
       "\n",
       "       nauthors  a1plus  a3plus  a5plus  a10plus  fmt_Audio  fmt_Digital  \\\n",
       "0             2       1       0       0        0          0            0   \n",
       "1             1       0       0       0        0          0            0   \n",
       "2             1       0       0       0        0          0            0   \n",
       "3             1       0       0       0        0          0            0   \n",
       "4             3       1       0       0        0          0            0   \n",
       "...         ...     ...     ...     ...      ...        ...          ...   \n",
       "38411         2       1       0       0        0          0            0   \n",
       "38412         1       0       0       0        0          0            0   \n",
       "38413         1       0       0       0        0          0            0   \n",
       "38414         1       0       0       0        0          0            0   \n",
       "38415         2       1       0       0        0          0            0   \n",
       "\n",
       "       fmt_Hardcover  fmt_Missing  fmt_Other  fmt_Paperback  \n",
       "0                  0            0          0              1  \n",
       "1                  0            0          0              1  \n",
       "2                  1            0          0              0  \n",
       "3                  0            0          0              1  \n",
       "4                  0            0          0              1  \n",
       "...              ...          ...        ...            ...  \n",
       "38411              0            0          0              1  \n",
       "38412              0            0          0              1  \n",
       "38413              1            0          0              0  \n",
       "38414              1            0          0              0  \n",
       "38415              1            0          0              0  \n",
       "\n",
       "[38416 rows x 40 columns]"
      ]
     },
     "execution_count": 3,
     "metadata": {},
     "output_type": "execute_result"
    }
   ],
   "source": [
    "#Load dataset\n",
    "dataset = pd.read_csv('/kaggle/input/booksdata/final.csv', index_col=0)\n",
    "dataset"
   ]
  },
  {
   "cell_type": "code",
   "execution_count": 4,
   "id": "21fd9b76",
   "metadata": {
    "execution": {
     "iopub.execute_input": "2021-11-21T20:48:25.109264Z",
     "iopub.status.busy": "2021-11-21T20:48:25.108494Z",
     "iopub.status.idle": "2021-11-21T20:48:25.687334Z",
     "shell.execute_reply": "2021-11-21T20:48:25.686843Z",
     "shell.execute_reply.started": "2021-11-21T20:13:04.137512Z"
    },
    "papermill": {
     "duration": 0.609059,
     "end_time": "2021-11-21T20:48:25.687480",
     "exception": false,
     "start_time": "2021-11-21T20:48:25.078421",
     "status": "completed"
    },
    "tags": []
   },
   "outputs": [],
   "source": [
    "#define independent variables and dependent variable (quality)\n",
    "X = dataset.drop(columns=['quality'])\n",
    "y = dataset[['quality']]\n",
    "\n",
    "#Create test and train test while shuffling\n",
    "X_train, X_test, y_train, y_test = train_test_split(X, y, test_size=0.3, random_state=42)\n",
    "\n",
    "#Save unscaled train and test data\n",
    "X_train.join(y_train).to_csv('/kaggle/working/train_data.csv')\n",
    "X_test.join(y_test).to_csv('/kaggle/working/test_data.csv')"
   ]
  },
  {
   "cell_type": "code",
   "execution_count": 5,
   "id": "a008c6ac",
   "metadata": {
    "execution": {
     "iopub.execute_input": "2021-11-21T20:48:25.729315Z",
     "iopub.status.busy": "2021-11-21T20:48:25.728306Z",
     "iopub.status.idle": "2021-11-21T20:48:25.744824Z",
     "shell.execute_reply": "2021-11-21T20:48:25.745232Z",
     "shell.execute_reply.started": "2021-11-21T20:13:05.337693Z"
    },
    "papermill": {
     "duration": 0.040016,
     "end_time": "2021-11-21T20:48:25.745391",
     "exception": false,
     "start_time": "2021-11-21T20:48:25.705375",
     "status": "completed"
    },
    "tags": []
   },
   "outputs": [],
   "source": [
    "#Create standardscaler\n",
    "scaler = MinMaxScaler()\n",
    "\n",
    "#Fit abd transform scaler on training data\n",
    "training = scaler.fit_transform(X_train)\n",
    "\n",
    "#Transform test data based on fitted scaler\n",
    "testing = scaler.transform(X_test)"
   ]
  },
  {
   "cell_type": "code",
   "execution_count": 6,
   "id": "1017d80e",
   "metadata": {
    "execution": {
     "iopub.execute_input": "2021-11-21T20:48:25.785168Z",
     "iopub.status.busy": "2021-11-21T20:48:25.784099Z",
     "iopub.status.idle": "2021-11-21T20:48:27.406399Z",
     "shell.execute_reply": "2021-11-21T20:48:27.405880Z",
     "shell.execute_reply.started": "2021-11-21T20:13:06.585010Z"
    },
    "papermill": {
     "duration": 1.643736,
     "end_time": "2021-11-21T20:48:27.406544",
     "exception": false,
     "start_time": "2021-11-21T20:48:25.762808",
     "status": "completed"
    },
    "tags": []
   },
   "outputs": [],
   "source": [
    "#Save scaled training and test data along with the depedent variables\n",
    "pd.DataFrame(training, columns=X_train.columns, index=X_train.index).join(y_train).to_csv('/kaggle/working/scaled_train.csv')\n",
    "pd.DataFrame(testing, columns=X_test.columns, index=X_test.index).join(y_test).to_csv('/kaggle/working/scaled_test.csv')"
   ]
  },
  {
   "cell_type": "markdown",
   "id": "014bfa0f",
   "metadata": {
    "papermill": {
     "duration": 0.017186,
     "end_time": "2021-11-21T20:48:27.441491",
     "exception": false,
     "start_time": "2021-11-21T20:48:27.424305",
     "status": "completed"
    },
    "tags": []
   },
   "source": [
    "## Train and Test Sets"
   ]
  },
  {
   "cell_type": "code",
   "execution_count": 7,
   "id": "ed3d2fea",
   "metadata": {
    "execution": {
     "iopub.execute_input": "2021-11-21T20:48:27.480131Z",
     "iopub.status.busy": "2021-11-21T20:48:27.479614Z",
     "iopub.status.idle": "2021-11-21T20:48:27.804671Z",
     "shell.execute_reply": "2021-11-21T20:48:27.803749Z",
     "shell.execute_reply.started": "2021-11-21T20:13:08.524947Z"
    },
    "papermill": {
     "duration": 0.346265,
     "end_time": "2021-11-21T20:48:27.804818",
     "exception": false,
     "start_time": "2021-11-21T20:48:27.458553",
     "status": "completed"
    },
    "tags": []
   },
   "outputs": [],
   "source": [
    "#Load relevant datasets\n",
    "train = pd.read_csv('/kaggle/input/booksdata/scaled_train.csv', index_col=0).reset_index(drop=True)\n",
    "test = pd.read_csv('/kaggle/input/booksdata/scaled_test.csv', index_col=0).reset_index(drop=True)"
   ]
  },
  {
   "cell_type": "code",
   "execution_count": 8,
   "id": "02c4688c",
   "metadata": {
    "execution": {
     "iopub.execute_input": "2021-11-21T20:48:27.853802Z",
     "iopub.status.busy": "2021-11-21T20:48:27.852461Z",
     "iopub.status.idle": "2021-11-21T20:48:27.856285Z",
     "shell.execute_reply": "2021-11-21T20:48:27.855809Z",
     "shell.execute_reply.started": "2021-11-21T20:13:09.618118Z"
    },
    "papermill": {
     "duration": 0.033827,
     "end_time": "2021-11-21T20:48:27.856407",
     "exception": false,
     "start_time": "2021-11-21T20:48:27.822580",
     "status": "completed"
    },
    "tags": []
   },
   "outputs": [
    {
     "data": {
      "text/plain": [
       "((26891, 39), (26891,))"
      ]
     },
     "execution_count": 8,
     "metadata": {},
     "output_type": "execute_result"
    }
   ],
   "source": [
    "#Split the scaled dataset into independent and dependent variables\n",
    "X_train = train.drop(columns=['quality'])\n",
    "X_test = test.drop(columns=['quality'])\n",
    "y_train = train['quality']\n",
    "y_test = test['quality']\n",
    "\n",
    "X_train.shape, y_train.shape"
   ]
  },
  {
   "cell_type": "markdown",
   "id": "dc4012eb",
   "metadata": {
    "papermill": {
     "duration": 0.019904,
     "end_time": "2021-11-21T20:48:27.896622",
     "exception": false,
     "start_time": "2021-11-21T20:48:27.876718",
     "status": "completed"
    },
    "tags": []
   },
   "source": [
    "## Evaluations\n",
    "Helper functions to evaluate the model."
   ]
  },
  {
   "cell_type": "code",
   "execution_count": 9,
   "id": "c7e2b85f",
   "metadata": {
    "execution": {
     "iopub.execute_input": "2021-11-21T20:48:27.938418Z",
     "iopub.status.busy": "2021-11-21T20:48:27.937650Z",
     "iopub.status.idle": "2021-11-21T20:48:27.940024Z",
     "shell.execute_reply": "2021-11-21T20:48:27.939617Z",
     "shell.execute_reply.started": "2021-11-21T20:13:11.440688Z"
    },
    "papermill": {
     "duration": 0.025836,
     "end_time": "2021-11-21T20:48:27.940127",
     "exception": false,
     "start_time": "2021-11-21T20:48:27.914291",
     "status": "completed"
    },
    "tags": []
   },
   "outputs": [],
   "source": [
    "def plot_roc(fpr1, tpr1, fpr0, tpr0):\n",
    "    \"\"\"Plot the ROC curve.\"\"\"\n",
    "    \n",
    "    plt.plot(fpr1, tpr1, color='darkorange', lw=2, label='ROC curve for 1')\n",
    "    plt.plot(fpr0, tpr0, color='navy', lw=2, label='ROC curve for 0')\n",
    "    plt.plot([0,1], [0,1], lw=2, linestyle='--')\n",
    "    plt.xlabel('False Positive Rate')\n",
    "    plt.ylabel('True Positive Rate')\n",
    "    plt.title('Receiver Operating Characteristic')\n",
    "    plt.xlim([0.0, 1.0])\n",
    "    plt.ylim([0.0, 1.05])\n",
    "    \n",
    "    plt.legend()\n",
    "    plt.show()"
   ]
  },
  {
   "cell_type": "code",
   "execution_count": 10,
   "id": "c1905916",
   "metadata": {
    "execution": {
     "iopub.execute_input": "2021-11-21T20:48:27.983211Z",
     "iopub.status.busy": "2021-11-21T20:48:27.982593Z",
     "iopub.status.idle": "2021-11-21T20:48:27.984965Z",
     "shell.execute_reply": "2021-11-21T20:48:27.985394Z",
     "shell.execute_reply.started": "2021-11-21T20:13:12.716591Z"
    },
    "papermill": {
     "duration": 0.02804,
     "end_time": "2021-11-21T20:48:27.985517",
     "exception": false,
     "start_time": "2021-11-21T20:48:27.957477",
     "status": "completed"
    },
    "tags": []
   },
   "outputs": [],
   "source": [
    "def evaluate(model, X_train, X_test, y_train, y_test):\n",
    "    \"\"\"Obtain the metrics for evaluation of the model.\"\"\"\n",
    "    \n",
    "    #Print model name\n",
    "    print(model)\n",
    "    \n",
    "    #Fit and predict the model\n",
    "    fit_start = time.time()\n",
    "    model.fit(X_train, y_train)\n",
    "    fit_end = time.time()\n",
    "    \n",
    "    train_pred = model.predict(X_train)\n",
    "    \n",
    "    pred_start = time.time()\n",
    "    y_pred = model.predict(X_test)\n",
    "    pred_end = time.time()\n",
    "    \n",
    "    #Print execution time\n",
    "    print('Model Fit Time: ', fit_end - fit_start, 's')\n",
    "    print('Model Prediction Time: ', pred_end - pred_start, 's\\n')\n",
    "    \n",
    "    #Print reports\n",
    "    print(classification_report(y_test, y_pred))\n",
    "    print(confusion_matrix(y_test, y_pred))\n",
    "    \n",
    "    #Get probability estimates for roc curve\n",
    "    probs = model.predict_proba(X_test)\n",
    "    y_score1 = probs[:,1]\n",
    "    y_score0 = probs[:,0]\n",
    "    \n",
    "    #Calculate ROC metrics\n",
    "    fpr1, tpr1, thresholds1 = roc_curve(y_test, y_score1)\n",
    "    fpr0, tpr0, thresholds0 = roc_curve(y_test, y_score0)\n",
    "    \n",
    "    #Print AUC\n",
    "    print(\"AUC for classifying as good (1): {}\\nAUC for classifying as bad (0): {}.\".format(\n",
    "        auc(fpr1, tpr1), auc(fpr0, tpr0)))\n",
    "    \n",
    "    plot_roc(fpr1, tpr1, fpr0, tpr0)"
   ]
  },
  {
   "cell_type": "markdown",
   "id": "4fdfb085",
   "metadata": {
    "papermill": {
     "duration": 0.017532,
     "end_time": "2021-11-21T20:48:28.020489",
     "exception": false,
     "start_time": "2021-11-21T20:48:28.002957",
     "status": "completed"
    },
    "tags": []
   },
   "source": [
    "## Modeling\n",
    "### Baseline"
   ]
  },
  {
   "cell_type": "code",
   "execution_count": 11,
   "id": "e9bdfffb",
   "metadata": {
    "execution": {
     "iopub.execute_input": "2021-11-21T20:48:28.060623Z",
     "iopub.status.busy": "2021-11-21T20:48:28.059826Z",
     "iopub.status.idle": "2021-11-21T20:48:28.068929Z",
     "shell.execute_reply": "2021-11-21T20:48:28.068505Z",
     "shell.execute_reply.started": "2021-11-21T20:13:14.704994Z"
    },
    "papermill": {
     "duration": 0.031193,
     "end_time": "2021-11-21T20:48:28.069033",
     "exception": false,
     "start_time": "2021-11-21T20:48:28.037840",
     "status": "completed"
    },
    "tags": []
   },
   "outputs": [
    {
     "data": {
      "text/plain": [
       "0.5048156182212581"
      ]
     },
     "execution_count": 11,
     "metadata": {},
     "output_type": "execute_result"
    }
   ],
   "source": [
    "#Create dummy model with uniform strategy\n",
    "dummy = DummyClassifier(strategy='uniform', random_state=42)\n",
    "\n",
    "#Fit and predict model on scaled data\n",
    "dummy.fit(X_train, y_train)\n",
    "dummy.predict(X_test)\n",
    "\n",
    "#Obtain dummy score\n",
    "dummy.score(X_test, y_test)"
   ]
  },
  {
   "cell_type": "code",
   "execution_count": 12,
   "id": "bd09a124",
   "metadata": {
    "execution": {
     "iopub.execute_input": "2021-11-21T20:48:28.108375Z",
     "iopub.status.busy": "2021-11-21T20:48:28.107698Z",
     "iopub.status.idle": "2021-11-21T20:48:28.380603Z",
     "shell.execute_reply": "2021-11-21T20:48:28.381280Z",
     "shell.execute_reply.started": "2021-11-21T06:11:49.957539Z"
    },
    "papermill": {
     "duration": 0.294612,
     "end_time": "2021-11-21T20:48:28.381441",
     "exception": false,
     "start_time": "2021-11-21T20:48:28.086829",
     "status": "completed"
    },
    "tags": []
   },
   "outputs": [
    {
     "name": "stdout",
     "output_type": "stream",
     "text": [
      "DummyClassifier(random_state=42, strategy='uniform')\n",
      "Model Fit Time:  0.0013422966003417969 s\n",
      "Model Prediction Time:  0.0004715919494628906 s\n",
      "\n",
      "              precision    recall  f1-score   support\n",
      "\n",
      "         0.0       0.51      0.51      0.51      5766\n",
      "         1.0       0.50      0.50      0.50      5759\n",
      "\n",
      "    accuracy                           0.50     11525\n",
      "   macro avg       0.50      0.50      0.50     11525\n",
      "weighted avg       0.50      0.50      0.50     11525\n",
      "\n",
      "[[2914 2852]\n",
      " [2855 2904]]\n",
      "AUC for classifying as good (1): 0.5\n",
      "AUC for classifying as bad (0): 0.5.\n"
     ]
    },
    {
     "data": {
      "image/png": "[encoded data removed]",
      "text/plain": [
       "<Figure size 432x288 with 1 Axes>"
      ]
     },
     "metadata": {
      "needs_background": "light"
     },
     "output_type": "display_data"
    }
   ],
   "source": [
    "evaluate(dummy, X_train, X_test, y_train, y_test)"
   ]
  },
  {
   "cell_type": "markdown",
   "id": "c4b376dd",
   "metadata": {
    "papermill": {
     "duration": 0.019236,
     "end_time": "2021-11-21T20:48:28.420367",
     "exception": false,
     "start_time": "2021-11-21T20:48:28.401131",
     "status": "completed"
    },
    "tags": []
   },
   "source": [
    "### XGBoost"
   ]
  },
  {
   "cell_type": "code",
   "execution_count": 13,
   "id": "84eb55e6",
   "metadata": {
    "execution": {
     "iopub.execute_input": "2021-11-21T20:48:28.463241Z",
     "iopub.status.busy": "2021-11-21T20:48:28.462580Z",
     "iopub.status.idle": "2021-11-21T20:48:35.116504Z",
     "shell.execute_reply": "2021-11-21T20:48:35.116904Z",
     "shell.execute_reply.started": "2021-11-21T20:13:18.920569Z"
    },
    "papermill": {
     "duration": 6.677626,
     "end_time": "2021-11-21T20:48:35.117053",
     "exception": false,
     "start_time": "2021-11-21T20:48:28.439427",
     "status": "completed"
    },
    "tags": []
   },
   "outputs": [
    {
     "name": "stdout",
     "output_type": "stream",
     "text": [
      "[[3820 1946]\n",
      " [2202 3557]]\n",
      "              precision    recall  f1-score   support\n",
      "\n",
      "         0.0       0.63      0.66      0.65      5766\n",
      "         1.0       0.65      0.62      0.63      5759\n",
      "\n",
      "    accuracy                           0.64     11525\n",
      "   macro avg       0.64      0.64      0.64     11525\n",
      "weighted avg       0.64      0.64      0.64     11525\n",
      "\n"
     ]
    }
   ],
   "source": [
    "#Create xgboost model\n",
    "xgb_cl = xgb.XGBClassifier(objective=\"binary:logistic\", verbosity=0)\n",
    "\n",
    "#fit \n",
    "xgb_cl.fit(X_train, y_train)\n",
    "\n",
    "#predict\n",
    "preds = xgb_cl.predict(X_test)\n",
    "\n",
    "#score\n",
    "print(confusion_matrix(y_test, preds))\n",
    "print(classification_report(y_test, preds))"
   ]
  },
  {
   "cell_type": "markdown",
   "id": "6f17eaf5",
   "metadata": {
    "papermill": {
     "duration": 0.019118,
     "end_time": "2021-11-21T20:48:35.155869",
     "exception": false,
     "start_time": "2021-11-21T20:48:35.136751",
     "status": "completed"
    },
    "tags": []
   },
   "source": [
    "Fine tune hyperparameters:"
   ]
  },
  {
   "cell_type": "code",
   "execution_count": 14,
   "id": "559dfe32",
   "metadata": {
    "execution": {
     "iopub.execute_input": "2021-11-21T20:48:35.225497Z",
     "iopub.status.busy": "2021-11-21T20:48:35.224265Z",
     "iopub.status.idle": "2021-11-21T20:54:55.529663Z",
     "shell.execute_reply": "2021-11-21T20:54:55.528979Z",
     "shell.execute_reply.started": "2021-11-21T20:14:37.720631Z"
    },
    "papermill": {
     "duration": 380.35212,
     "end_time": "2021-11-21T20:54:55.529857",
     "exception": false,
     "start_time": "2021-11-21T20:48:35.177737",
     "status": "completed"
    },
    "tags": []
   },
   "outputs": [
    {
     "name": "stdout",
     "output_type": "stream",
     "text": [
      "Fitting 5 folds for each of 10 candidates, totalling 50 fits\n",
      "[CV] reg_lambda=1, reg_alpha=0.1, max_depth=15, learning_rate=0.2, gamma=0.25 \n"
     ]
    },
    {
     "name": "stderr",
     "output_type": "stream",
     "text": [
      "[Parallel(n_jobs=1)]: Using backend SequentialBackend with 1 concurrent workers.\n"
     ]
    },
    {
     "name": "stdout",
     "output_type": "stream",
     "text": [
      "[CV]  reg_lambda=1, reg_alpha=0.1, max_depth=15, learning_rate=0.2, gamma=0.25, score=0.697, total=  11.2s\n",
      "[CV] reg_lambda=1, reg_alpha=0.1, max_depth=15, learning_rate=0.2, gamma=0.25 \n"
     ]
    },
    {
     "name": "stderr",
     "output_type": "stream",
     "text": [
      "[Parallel(n_jobs=1)]: Done   1 out of   1 | elapsed:   11.2s remaining:    0.0s\n"
     ]
    },
    {
     "name": "stdout",
     "output_type": "stream",
     "text": [
      "[CV]  reg_lambda=1, reg_alpha=0.1, max_depth=15, learning_rate=0.2, gamma=0.25, score=0.666, total=  10.7s\n",
      "[CV] reg_lambda=1, reg_alpha=0.1, max_depth=15, learning_rate=0.2, gamma=0.25 \n"
     ]
    },
    {
     "name": "stderr",
     "output_type": "stream",
     "text": [
      "[Parallel(n_jobs=1)]: Done   2 out of   2 | elapsed:   22.0s remaining:    0.0s\n"
     ]
    },
    {
     "name": "stdout",
     "output_type": "stream",
     "text": [
      "[CV]  reg_lambda=1, reg_alpha=0.1, max_depth=15, learning_rate=0.2, gamma=0.25, score=0.669, total=  11.1s\n",
      "[CV] reg_lambda=1, reg_alpha=0.1, max_depth=15, learning_rate=0.2, gamma=0.25 \n"
     ]
    },
    {
     "name": "stderr",
     "output_type": "stream",
     "text": [
      "[Parallel(n_jobs=1)]: Done   3 out of   3 | elapsed:   33.1s remaining:    0.0s\n"
     ]
    },
    {
     "name": "stdout",
     "output_type": "stream",
     "text": [
      "[CV]  reg_lambda=1, reg_alpha=0.1, max_depth=15, learning_rate=0.2, gamma=0.25, score=0.683, total=  10.7s\n",
      "[CV] reg_lambda=1, reg_alpha=0.1, max_depth=15, learning_rate=0.2, gamma=0.25 \n"
     ]
    },
    {
     "name": "stderr",
     "output_type": "stream",
     "text": [
      "[Parallel(n_jobs=1)]: Done   4 out of   4 | elapsed:   43.8s remaining:    0.0s\n"
     ]
    },
    {
     "name": "stdout",
     "output_type": "stream",
     "text": [
      "[CV]  reg_lambda=1, reg_alpha=0.1, max_depth=15, learning_rate=0.2, gamma=0.25, score=0.687, total=  10.7s\n",
      "[CV] reg_lambda=0.1, reg_alpha=0, max_depth=3, learning_rate=0.1, gamma=0.5 \n"
     ]
    },
    {
     "name": "stderr",
     "output_type": "stream",
     "text": [
      "[Parallel(n_jobs=1)]: Done   5 out of   5 | elapsed:   54.5s remaining:    0.0s\n"
     ]
    },
    {
     "name": "stdout",
     "output_type": "stream",
     "text": [
      "[CV]  reg_lambda=0.1, reg_alpha=0, max_depth=3, learning_rate=0.1, gamma=0.5, score=0.711, total=   1.8s\n",
      "[CV] reg_lambda=0.1, reg_alpha=0, max_depth=3, learning_rate=0.1, gamma=0.5 \n"
     ]
    },
    {
     "name": "stderr",
     "output_type": "stream",
     "text": [
      "[Parallel(n_jobs=1)]: Done   6 out of   6 | elapsed:   56.3s remaining:    0.0s\n"
     ]
    },
    {
     "name": "stdout",
     "output_type": "stream",
     "text": [
      "[CV]  reg_lambda=0.1, reg_alpha=0, max_depth=3, learning_rate=0.1, gamma=0.5, score=0.681, total=   2.3s\n",
      "[CV] reg_lambda=0.1, reg_alpha=0, max_depth=3, learning_rate=0.1, gamma=0.5 \n"
     ]
    },
    {
     "name": "stderr",
     "output_type": "stream",
     "text": [
      "[Parallel(n_jobs=1)]: Done   7 out of   7 | elapsed:   58.6s remaining:    0.0s\n"
     ]
    },
    {
     "name": "stdout",
     "output_type": "stream",
     "text": [
      "[CV]  reg_lambda=0.1, reg_alpha=0, max_depth=3, learning_rate=0.1, gamma=0.5, score=0.684, total=   1.8s\n",
      "[CV] reg_lambda=0.1, reg_alpha=0, max_depth=3, learning_rate=0.1, gamma=0.5 \n"
     ]
    },
    {
     "name": "stderr",
     "output_type": "stream",
     "text": [
      "[Parallel(n_jobs=1)]: Done   8 out of   8 | elapsed:  1.0min remaining:    0.0s\n"
     ]
    },
    {
     "name": "stdout",
     "output_type": "stream",
     "text": [
      "[CV]  reg_lambda=0.1, reg_alpha=0, max_depth=3, learning_rate=0.1, gamma=0.5, score=0.696, total=   1.8s\n",
      "[CV] reg_lambda=0.1, reg_alpha=0, max_depth=3, learning_rate=0.1, gamma=0.5 \n"
     ]
    },
    {
     "name": "stderr",
     "output_type": "stream",
     "text": [
      "[Parallel(n_jobs=1)]: Done   9 out of   9 | elapsed:  1.0min remaining:    0.0s\n"
     ]
    },
    {
     "name": "stdout",
     "output_type": "stream",
     "text": [
      "[CV]  reg_lambda=0.1, reg_alpha=0, max_depth=3, learning_rate=0.1, gamma=0.5, score=0.698, total=   1.9s\n",
      "[CV] reg_lambda=1, reg_alpha=0, max_depth=5, learning_rate=0.05, gamma=0.25 \n",
      "[CV]  reg_lambda=1, reg_alpha=0, max_depth=5, learning_rate=0.05, gamma=0.25, score=0.715, total=   4.0s\n",
      "[CV] reg_lambda=1, reg_alpha=0, max_depth=5, learning_rate=0.05, gamma=0.25 \n",
      "[CV]  reg_lambda=1, reg_alpha=0, max_depth=5, learning_rate=0.05, gamma=0.25, score=0.686, total=   3.4s\n",
      "[CV] reg_lambda=1, reg_alpha=0, max_depth=5, learning_rate=0.05, gamma=0.25 \n",
      "[CV]  reg_lambda=1, reg_alpha=0, max_depth=5, learning_rate=0.05, gamma=0.25, score=0.686, total=   3.2s\n",
      "[CV] reg_lambda=1, reg_alpha=0, max_depth=5, learning_rate=0.05, gamma=0.25 \n",
      "[CV]  reg_lambda=1, reg_alpha=0, max_depth=5, learning_rate=0.05, gamma=0.25, score=0.701, total=   3.1s\n",
      "[CV] reg_lambda=1, reg_alpha=0, max_depth=5, learning_rate=0.05, gamma=0.25 \n",
      "[CV]  reg_lambda=1, reg_alpha=0, max_depth=5, learning_rate=0.05, gamma=0.25, score=0.704, total=   3.6s\n",
      "[CV] reg_lambda=0, reg_alpha=0.01, max_depth=15, learning_rate=0.01, gamma=0.5 \n",
      "[CV]  reg_lambda=0, reg_alpha=0.01, max_depth=15, learning_rate=0.01, gamma=0.5, score=0.683, total=  14.3s\n",
      "[CV] reg_lambda=0, reg_alpha=0.01, max_depth=15, learning_rate=0.01, gamma=0.5 \n",
      "[CV]  reg_lambda=0, reg_alpha=0.01, max_depth=15, learning_rate=0.01, gamma=0.5, score=0.661, total=  14.9s\n",
      "[CV] reg_lambda=0, reg_alpha=0.01, max_depth=15, learning_rate=0.01, gamma=0.5 \n",
      "[CV]  reg_lambda=0, reg_alpha=0.01, max_depth=15, learning_rate=0.01, gamma=0.5, score=0.672, total=  14.5s\n",
      "[CV] reg_lambda=0, reg_alpha=0.01, max_depth=15, learning_rate=0.01, gamma=0.5 \n",
      "[CV]  reg_lambda=0, reg_alpha=0.01, max_depth=15, learning_rate=0.01, gamma=0.5, score=0.672, total=  15.0s\n",
      "[CV] reg_lambda=0, reg_alpha=0.01, max_depth=15, learning_rate=0.01, gamma=0.5 \n",
      "[CV]  reg_lambda=0, reg_alpha=0.01, max_depth=15, learning_rate=0.01, gamma=0.5, score=0.674, total=  14.5s\n",
      "[CV] reg_lambda=0, reg_alpha=1, max_depth=10, learning_rate=0.2, gamma=0.25 \n",
      "[CV]  reg_lambda=0, reg_alpha=1, max_depth=10, learning_rate=0.2, gamma=0.25, score=0.698, total=   7.6s\n",
      "[CV] reg_lambda=0, reg_alpha=1, max_depth=10, learning_rate=0.2, gamma=0.25 \n",
      "[CV]  reg_lambda=0, reg_alpha=1, max_depth=10, learning_rate=0.2, gamma=0.25, score=0.673, total=   7.9s\n",
      "[CV] reg_lambda=0, reg_alpha=1, max_depth=10, learning_rate=0.2, gamma=0.25 \n",
      "[CV]  reg_lambda=0, reg_alpha=1, max_depth=10, learning_rate=0.2, gamma=0.25, score=0.675, total=   6.8s\n",
      "[CV] reg_lambda=0, reg_alpha=1, max_depth=10, learning_rate=0.2, gamma=0.25 \n",
      "[CV]  reg_lambda=0, reg_alpha=1, max_depth=10, learning_rate=0.2, gamma=0.25, score=0.687, total=   7.1s\n",
      "[CV] reg_lambda=0, reg_alpha=1, max_depth=10, learning_rate=0.2, gamma=0.25 \n",
      "[CV]  reg_lambda=0, reg_alpha=1, max_depth=10, learning_rate=0.2, gamma=0.25, score=0.688, total=   7.1s\n",
      "[CV] reg_lambda=0.1, reg_alpha=0, max_depth=3, learning_rate=0.2, gamma=1 \n",
      "[CV]  reg_lambda=0.1, reg_alpha=0, max_depth=3, learning_rate=0.2, gamma=1, score=0.713, total=   1.8s\n",
      "[CV] reg_lambda=0.1, reg_alpha=0, max_depth=3, learning_rate=0.2, gamma=1 \n",
      "[CV]  reg_lambda=0.1, reg_alpha=0, max_depth=3, learning_rate=0.2, gamma=1, score=0.683, total=   1.8s\n",
      "[CV] reg_lambda=0.1, reg_alpha=0, max_depth=3, learning_rate=0.2, gamma=1 \n",
      "[CV]  reg_lambda=0.1, reg_alpha=0, max_depth=3, learning_rate=0.2, gamma=1, score=0.685, total=   2.1s\n",
      "[CV] reg_lambda=0.1, reg_alpha=0, max_depth=3, learning_rate=0.2, gamma=1 \n",
      "[CV]  reg_lambda=0.1, reg_alpha=0, max_depth=3, learning_rate=0.2, gamma=1, score=0.699, total=   2.2s\n",
      "[CV] reg_lambda=0.1, reg_alpha=0, max_depth=3, learning_rate=0.2, gamma=1 \n",
      "[CV]  reg_lambda=0.1, reg_alpha=0, max_depth=3, learning_rate=0.2, gamma=1, score=0.698, total=   2.3s\n",
      "[CV] reg_lambda=0, reg_alpha=0.1, max_depth=10, learning_rate=0.05, gamma=0 \n",
      "[CV]  reg_lambda=0, reg_alpha=0.1, max_depth=10, learning_rate=0.05, gamma=0, score=0.714, total=   7.1s\n",
      "[CV] reg_lambda=0, reg_alpha=0.1, max_depth=10, learning_rate=0.05, gamma=0 \n",
      "[CV]  reg_lambda=0, reg_alpha=0.1, max_depth=10, learning_rate=0.05, gamma=0, score=0.688, total=   7.5s\n",
      "[CV] reg_lambda=0, reg_alpha=0.1, max_depth=10, learning_rate=0.05, gamma=0 \n",
      "[CV]  reg_lambda=0, reg_alpha=0.1, max_depth=10, learning_rate=0.05, gamma=0, score=0.683, total=   7.8s\n",
      "[CV] reg_lambda=0, reg_alpha=0.1, max_depth=10, learning_rate=0.05, gamma=0 \n",
      "[CV]  reg_lambda=0, reg_alpha=0.1, max_depth=10, learning_rate=0.05, gamma=0, score=0.694, total=   7.7s\n",
      "[CV] reg_lambda=0, reg_alpha=0.1, max_depth=10, learning_rate=0.05, gamma=0 \n",
      "[CV]  reg_lambda=0, reg_alpha=0.1, max_depth=10, learning_rate=0.05, gamma=0, score=0.695, total=   7.4s\n",
      "[CV] reg_lambda=2, reg_alpha=1e-05, max_depth=10, learning_rate=0.1, gamma=0.25 \n",
      "[CV]  reg_lambda=2, reg_alpha=1e-05, max_depth=10, learning_rate=0.1, gamma=0.25, score=0.712, total=   6.8s\n",
      "[CV] reg_lambda=2, reg_alpha=1e-05, max_depth=10, learning_rate=0.1, gamma=0.25 \n",
      "[CV]  reg_lambda=2, reg_alpha=1e-05, max_depth=10, learning_rate=0.1, gamma=0.25, score=0.686, total=   6.5s\n",
      "[CV] reg_lambda=2, reg_alpha=1e-05, max_depth=10, learning_rate=0.1, gamma=0.25 \n",
      "[CV]  reg_lambda=2, reg_alpha=1e-05, max_depth=10, learning_rate=0.1, gamma=0.25, score=0.687, total=   7.0s\n",
      "[CV] reg_lambda=2, reg_alpha=1e-05, max_depth=10, learning_rate=0.1, gamma=0.25 \n",
      "[CV]  reg_lambda=2, reg_alpha=1e-05, max_depth=10, learning_rate=0.1, gamma=0.25, score=0.698, total=   7.5s\n",
      "[CV] reg_lambda=2, reg_alpha=1e-05, max_depth=10, learning_rate=0.1, gamma=0.25 \n",
      "[CV]  reg_lambda=2, reg_alpha=1e-05, max_depth=10, learning_rate=0.1, gamma=0.25, score=0.701, total=   6.5s\n",
      "[CV] reg_lambda=0.1, reg_alpha=2, max_depth=15, learning_rate=0.1, gamma=0.5 \n",
      "[CV]  reg_lambda=0.1, reg_alpha=2, max_depth=15, learning_rate=0.1, gamma=0.5, score=0.703, total=  12.2s\n",
      "[CV] reg_lambda=0.1, reg_alpha=2, max_depth=15, learning_rate=0.1, gamma=0.5 \n",
      "[CV]  reg_lambda=0.1, reg_alpha=2, max_depth=15, learning_rate=0.1, gamma=0.5, score=0.677, total=  12.8s\n",
      "[CV] reg_lambda=0.1, reg_alpha=2, max_depth=15, learning_rate=0.1, gamma=0.5 \n",
      "[CV]  reg_lambda=0.1, reg_alpha=2, max_depth=15, learning_rate=0.1, gamma=0.5, score=0.680, total=  12.3s\n",
      "[CV] reg_lambda=0.1, reg_alpha=2, max_depth=15, learning_rate=0.1, gamma=0.5 \n",
      "[CV]  reg_lambda=0.1, reg_alpha=2, max_depth=15, learning_rate=0.1, gamma=0.5, score=0.694, total=  11.9s\n",
      "[CV] reg_lambda=0.1, reg_alpha=2, max_depth=15, learning_rate=0.1, gamma=0.5 \n",
      "[CV]  reg_lambda=0.1, reg_alpha=2, max_depth=15, learning_rate=0.1, gamma=0.5, score=0.691, total=  12.6s\n",
      "[CV] reg_lambda=0.1, reg_alpha=0, max_depth=10, learning_rate=0.01, gamma=1 \n",
      "[CV]  reg_lambda=0.1, reg_alpha=0, max_depth=10, learning_rate=0.01, gamma=1, score=0.707, total=   7.9s\n",
      "[CV] reg_lambda=0.1, reg_alpha=0, max_depth=10, learning_rate=0.01, gamma=1 \n",
      "[CV]  reg_lambda=0.1, reg_alpha=0, max_depth=10, learning_rate=0.01, gamma=1, score=0.678, total=   8.3s\n",
      "[CV] reg_lambda=0.1, reg_alpha=0, max_depth=10, learning_rate=0.01, gamma=1 \n",
      "[CV]  reg_lambda=0.1, reg_alpha=0, max_depth=10, learning_rate=0.01, gamma=1, score=0.682, total=   8.3s\n",
      "[CV] reg_lambda=0.1, reg_alpha=0, max_depth=10, learning_rate=0.01, gamma=1 \n",
      "[CV]  reg_lambda=0.1, reg_alpha=0, max_depth=10, learning_rate=0.01, gamma=1, score=0.690, total=   8.9s\n",
      "[CV] reg_lambda=0.1, reg_alpha=0, max_depth=10, learning_rate=0.01, gamma=1 \n",
      "[CV]  reg_lambda=0.1, reg_alpha=0, max_depth=10, learning_rate=0.01, gamma=1, score=0.687, total=   7.9s\n"
     ]
    },
    {
     "name": "stderr",
     "output_type": "stream",
     "text": [
      "[Parallel(n_jobs=1)]: Done  50 out of  50 | elapsed:  6.3min finished\n"
     ]
    },
    {
     "name": "stdout",
     "output_type": "stream",
     "text": [
      "{'reg_lambda': 1, 'reg_alpha': 0, 'max_depth': 5, 'learning_rate': 0.05, 'gamma': 0.25} 0.6984765013128754\n"
     ]
    }
   ],
   "source": [
    "#Create xgboost model\n",
    "xgb_clf = xgb.XGBClassifier(objective='binary:logistic', verbosity=0)\n",
    "\n",
    "#Create model parameters to iterate over\n",
    "params = {'learning_rate': [0.01,0.05,0.1,0.2],\n",
    "          'gamma': [0,0.25,0.5,1],\n",
    "          'reg_alpha': [0, 1e-5, 1e-2, 0.1, 1, 2],\n",
    "          'reg_lambda': [0, 1e-5, 1e-2, 0.1, 1, 2],\n",
    "          'max_depth': [3,5,10,15]\n",
    "         }\n",
    "\n",
    "#Create randomized search cv pipeline\n",
    "xgb_cv = RandomizedSearchCV(xgb_clf, param_distributions=params, cv=5, scoring='roc_auc', verbose=10)\n",
    "\n",
    "#Fit model on training set\n",
    "xgb_cv.fit(X_train, y_train)\n",
    "\n",
    "#Print the best parameters and score\n",
    "print(xgb_cv.best_params_, xgb_cv.best_score_)"
   ]
  },
  {
   "cell_type": "code",
   "execution_count": 15,
   "id": "bda0c69b",
   "metadata": {
    "execution": {
     "iopub.execute_input": "2021-11-21T20:54:55.607548Z",
     "iopub.status.busy": "2021-11-21T20:54:55.606735Z",
     "iopub.status.idle": "2021-11-21T20:54:59.366889Z",
     "shell.execute_reply": "2021-11-21T20:54:59.367854Z",
     "shell.execute_reply.started": "2021-11-21T20:34:59.576467Z"
    },
    "papermill": {
     "duration": 3.801393,
     "end_time": "2021-11-21T20:54:59.368071",
     "exception": false,
     "start_time": "2021-11-21T20:54:55.566678",
     "status": "completed"
    },
    "tags": []
   },
   "outputs": [],
   "source": [
    "#best xgboost model\n",
    "xgb_best = xgb.XGBClassifier(objective='binary:logistic', verbosity=0, reg_lambda=1, reg_alpha=2, max_depth=5, learning_rate=0.1, gamma=0)\n",
    "\n",
    "#Fit and predict model on training set\n",
    "xgb_best.fit(X_train, y_train)\n",
    "preds_best = xgb_best.predict(X_test)"
   ]
  },
  {
   "cell_type": "code",
   "execution_count": 16,
   "id": "201596b1",
   "metadata": {
    "execution": {
     "iopub.execute_input": "2021-11-21T20:54:59.452589Z",
     "iopub.status.busy": "2021-11-21T20:54:59.451643Z",
     "iopub.status.idle": "2021-11-21T20:55:03.970746Z",
     "shell.execute_reply": "2021-11-21T20:55:03.970263Z",
     "shell.execute_reply.started": "2021-11-21T20:35:32.957287Z"
    },
    "papermill": {
     "duration": 4.562634,
     "end_time": "2021-11-21T20:55:03.970892",
     "exception": false,
     "start_time": "2021-11-21T20:54:59.408258",
     "status": "completed"
    },
    "tags": []
   },
   "outputs": [
    {
     "name": "stdout",
     "output_type": "stream",
     "text": [
      "XGBClassifier(base_score=0.5, booster='gbtree', colsample_bylevel=1,\n",
      "              colsample_bynode=1, colsample_bytree=1, enable_categorical=False,\n",
      "              gamma=0, gpu_id=-1, importance_type=None,\n",
      "              interaction_constraints='', learning_rate=0.1, max_delta_step=0,\n",
      "              max_depth=5, min_child_weight=1, missing=nan,\n",
      "              monotone_constraints='()', n_estimators=100, n_jobs=2,\n",
      "              num_parallel_tree=1, predictor='auto', random_state=0,\n",
      "              reg_alpha=2, reg_lambda=1, scale_pos_weight=1, subsample=1,\n",
      "              tree_method='exact', validate_parameters=1, verbosity=0)\n",
      "Model Fit Time:  4.147428035736084 s\n",
      "Model Prediction Time:  0.024336814880371094 s\n",
      "\n",
      "              precision    recall  f1-score   support\n",
      "\n",
      "         0.0       0.64      0.68      0.66      5766\n",
      "         1.0       0.66      0.61      0.63      5759\n",
      "\n",
      "    accuracy                           0.65     11525\n",
      "   macro avg       0.65      0.65      0.65     11525\n",
      "weighted avg       0.65      0.65      0.65     11525\n",
      "\n",
      "[[3913 1853]\n",
      " [2230 3529]]\n",
      "AUC for classifying as good (1): 0.7014852772029387\n",
      "AUC for classifying as bad (0): 0.2985147227970613.\n"
     ]
    },
    {
     "data": {
      "image/png": "[encoded data removed]",
      "text/plain": [
       "<Figure size 432x288 with 1 Axes>"
      ]
     },
     "metadata": {
      "needs_background": "light"
     },
     "output_type": "display_data"
    }
   ],
   "source": [
    "evaluate(xgb_best, X_train, X_test, y_train, y_test)"
   ]
  },
  {
   "cell_type": "markdown",
   "id": "78f4b698",
   "metadata": {
    "papermill": {
     "duration": 0.037441,
     "end_time": "2021-11-21T20:55:04.047333",
     "exception": false,
     "start_time": "2021-11-21T20:55:04.009892",
     "status": "completed"
    },
    "tags": []
   },
   "source": [
    "### Test XGBoost model based on scoring on logged verbosity"
   ]
  },
  {
   "cell_type": "code",
   "execution_count": 17,
   "id": "64e2e253",
   "metadata": {
    "execution": {
     "iopub.execute_input": "2021-11-21T20:55:04.130115Z",
     "iopub.status.busy": "2021-11-21T20:55:04.129305Z",
     "iopub.status.idle": "2021-11-21T20:55:13.105332Z",
     "shell.execute_reply": "2021-11-21T20:55:13.106275Z",
     "shell.execute_reply.started": "2021-11-21T20:32:46.378206Z"
    },
    "papermill": {
     "duration": 9.020446,
     "end_time": "2021-11-21T20:55:13.106454",
     "exception": false,
     "start_time": "2021-11-21T20:55:04.086008",
     "status": "completed"
    },
    "tags": []
   },
   "outputs": [],
   "source": [
    "#test xgboost model\n",
    "xgb_test = xgb.XGBClassifier(objective='binary:logistic', verbosity=0, reg_lambda=2, reg_alpha=1, max_depth=10, learning_rate=0.1, gamma=0.25)\n",
    "\n",
    "#Fit and predict model on training set\n",
    "xgb_test.fit(X_train, y_train)\n",
    "preds_test = xgb_test.predict(X_test)"
   ]
  },
  {
   "cell_type": "code",
   "execution_count": 18,
   "id": "b905f09e",
   "metadata": {
    "execution": {
     "iopub.execute_input": "2021-11-21T20:55:13.187908Z",
     "iopub.status.busy": "2021-11-21T20:55:13.187095Z",
     "iopub.status.idle": "2021-11-21T20:55:22.327803Z",
     "shell.execute_reply": "2021-11-21T20:55:22.328216Z",
     "shell.execute_reply.started": "2021-11-21T20:33:16.270267Z"
    },
    "papermill": {
     "duration": 9.182029,
     "end_time": "2021-11-21T20:55:22.328386",
     "exception": false,
     "start_time": "2021-11-21T20:55:13.146357",
     "status": "completed"
    },
    "tags": []
   },
   "outputs": [
    {
     "name": "stdout",
     "output_type": "stream",
     "text": [
      "XGBClassifier(base_score=0.5, booster='gbtree', colsample_bylevel=1,\n",
      "              colsample_bynode=1, colsample_bytree=1, enable_categorical=False,\n",
      "              gamma=0.25, gpu_id=-1, importance_type=None,\n",
      "              interaction_constraints='', learning_rate=0.1, max_delta_step=0,\n",
      "              max_depth=10, min_child_weight=1, missing=nan,\n",
      "              monotone_constraints='()', n_estimators=100, n_jobs=2,\n",
      "              num_parallel_tree=1, predictor='auto', random_state=0,\n",
      "              reg_alpha=1, reg_lambda=2, scale_pos_weight=1, subsample=1,\n",
      "              tree_method='exact', validate_parameters=1, verbosity=0)\n",
      "Model Fit Time:  8.669475793838501 s\n",
      "Model Prediction Time:  0.04972958564758301 s\n",
      "\n",
      "              precision    recall  f1-score   support\n",
      "\n",
      "         0.0       0.63      0.67      0.65      5766\n",
      "         1.0       0.65      0.61      0.63      5759\n",
      "\n",
      "    accuracy                           0.64     11525\n",
      "   macro avg       0.64      0.64      0.64     11525\n",
      "weighted avg       0.64      0.64      0.64     11525\n",
      "\n",
      "[[3885 1881]\n",
      " [2236 3523]]\n",
      "AUC for classifying as good (1): 0.6996908185815058\n",
      "AUC for classifying as bad (0): 0.3003091814184943.\n"
     ]
    },
    {
     "data": {
      "image/png": "[encoded data removed]",
      "text/plain": [
       "<Figure size 432x288 with 1 Axes>"
      ]
     },
     "metadata": {
      "needs_background": "light"
     },
     "output_type": "display_data"
    }
   ],
   "source": [
    "evaluate(xgb_test, X_train, X_test, y_train, y_test)"
   ]
  },
  {
   "cell_type": "code",
   "execution_count": 19,
   "id": "486c818e",
   "metadata": {
    "execution": {
     "iopub.execute_input": "2021-11-21T20:55:22.410844Z",
     "iopub.status.busy": "2021-11-21T20:55:22.410031Z",
     "iopub.status.idle": "2021-11-21T20:55:22.412811Z",
     "shell.execute_reply": "2021-11-21T20:55:22.412356Z"
    },
    "papermill": {
     "duration": 0.044751,
     "end_time": "2021-11-21T20:55:22.412916",
     "exception": false,
     "start_time": "2021-11-21T20:55:22.368165",
     "status": "completed"
    },
    "tags": []
   },
   "outputs": [],
   "source": [
    "# #Create xgboost model\n",
    "# xgb_clf = xgb.XGBClassifier(objective='binary:logistic', verbosity=0)\n",
    "\n",
    "# #Create model parameters to iterate over\n",
    "# params = {'learning_rate': [0.01,0.05,0.1,0.2],\n",
    "#           'gamma': [0,0.25,0.5,1],\n",
    "#           'reg_alpha': [0, 1e-5, 1e-2, 0.1, 1, 2],\n",
    "#           'reg_lambda': [0, 1e-5, 1e-2, 0.1, 1, 2],\n",
    "#           'max_depth': [3,5,10,15]\n",
    "#          }\n",
    "\n",
    "# #Create randomized search cv pipeline\n",
    "# xgb_cv = GridSearchCV(xgb_clf, param_grid=params, cv=5, scoring='roc_auc', verbose=10)\n",
    "\n",
    "# #Fit model on training set\n",
    "# xgb_cv.fit(X_train, y_train)\n",
    "\n",
    "# #Print the best parameters and score\n",
    "# print(xgb_cv.best_params_, xgb_cv.best_score_)"
   ]
  }
 ],
 "metadata": {
  "kernelspec": {
   "display_name": "Python 3",
   "language": "python",
   "name": "python3"
  },
  "language_info": {
   "codemirror_mode": {
    "name": "ipython",
    "version": 3
   },
   "file_extension": ".py",
   "mimetype": "text/x-python",
   "name": "python",
   "nbconvert_exporter": "python",
   "pygments_lexer": "ipython3",
   "version": "3.7.10"
  },
  "papermill": {
   "default_parameters": {},
   "duration": 427.386503,
   "end_time": "2021-11-21T20:55:23.561599",
   "environment_variables": {},
   "exception": null,
   "input_path": "__notebook__.ipynb",
   "output_path": "__notebook__.ipynb",
   "parameters": {},
   "start_time": "2021-11-21T20:48:16.175096",
   "version": "2.3.3"
  }
 },
 "nbformat": 4,
 "nbformat_minor": 5
}
